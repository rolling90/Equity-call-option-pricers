{
 "cells": [
  {
   "cell_type": "code",
   "execution_count": 3,
   "id": "0e56950f-267d-4096-a9f8-c62f6a401c5c",
   "metadata": {},
   "outputs": [],
   "source": [
    "import numpy as np  \n",
    "import pandas as pd  \n",
    "import yfinance as yf\n",
    "from datetime import datetime, timedelta\n",
    "from scipy.stats import norm \n",
    "import matplotlib.pyplot as plt  \n",
    "%matplotlib inline"
   ]
  },
  {
   "cell_type": "markdown",
   "id": "5a56fc9c-a54f-44e5-a1aa-aa9c37830bd1",
   "metadata": {},
   "source": [
    "**Define Black Scholes model**\n",
    "\n",
    "$$\n",
    "d_1 = \\frac{\\ln(\\frac{S}{K}) + (r + \\frac{stdev^2}{2})t}{s \\cdot \\sqrt{t}}\n",
    "$$\n",
    "\n",
    "$$\n",
    "d_2 = d_1 - s \\cdot \\sqrt{t} = \\frac{\\ln(\\frac{S}{K}) + (r - \\frac{stdev^2}{2})t}{s \\cdot \\sqrt{t}}\n",
    "$$\n",
    "\n",
    "$$\n",
    "\\textbf{C} = SN(d_1) - Ke^{-rt}N(d_2) \n",
    "$$"
   ]
  },
  {
   "cell_type": "code",
   "execution_count": 5,
   "id": "3bf91e9c-833e-4722-b9f2-345953dfcd57",
   "metadata": {},
   "outputs": [],
   "source": [
    "def d1(S, K, r, stdev, T):\n",
    "    return (np.log(S / K) + (r + stdev ** 2 / 2) * T) / (stdev * np.sqrt(T))\n",
    " \n",
    "def d2(S, K, r, stdev, T):\n",
    "    return (np.log(S / K) + (r - stdev ** 2 / 2) * T) / (stdev * np.sqrt(T))"
   ]
  },
  {
   "cell_type": "code",
   "execution_count": 7,
   "id": "02f73a46-a35b-4196-a0cc-bd234fac4d86",
   "metadata": {},
   "outputs": [],
   "source": [
    "def BSM(S, K, r, stdev, T):\n",
    "        return (S * norm.cdf(d1(S, K, r, stdev, T))) - (K * np.exp(-r * T) * norm.cdf(d2(S, K, r, stdev, T)))"
   ]
  },
  {
   "cell_type": "markdown",
   "id": "954fe14c-fb18-4aa0-9dc2-7be685c735c9",
   "metadata": {},
   "source": [
    "**Download market data**"
   ]
  },
  {
   "cell_type": "code",
   "execution_count": 9,
   "id": "9ab05f36-8b9c-4c68-9748-01da0cd1164b",
   "metadata": {},
   "outputs": [
    {
     "name": "stderr",
     "output_type": "stream",
     "text": [
      "C:\\Users\\sabbi\\AppData\\Local\\Temp\\ipykernel_36500\\3793182473.py:7: FutureWarning: YF.download() has changed argument auto_adjust default to True\n",
      "  data = yf.download('MSFT', start=start_date, end=end_date)[\"Close\"]\n",
      "[*********************100%***********************]  1 of 1 completed\n"
     ]
    }
   ],
   "source": [
    "ticker = \"MSFT\"\n",
    "strike_delta = 0.1 # e.g. 0.1 represents 10%\n",
    "\n",
    "end_date = datetime.today().date()\n",
    "start_date = end_date - timedelta(days=365)\n",
    "\n",
    "data = yf.download('MSFT', start=start_date, end=end_date)[\"Close\"]\n",
    "\n",
    "strike = data.iloc[-1] * (1 * (1 + strike_delta))\n",
    "strike = strike.values"
   ]
  },
  {
   "cell_type": "code",
   "execution_count": 11,
   "id": "7561474b-05a7-4fe2-ab52-89d19d88fe7c",
   "metadata": {},
   "outputs": [],
   "source": [
    "log_returns = np.log(1 + data.pct_change())"
   ]
  },
  {
   "cell_type": "code",
   "execution_count": 13,
   "id": "a807869a-713d-4370-8246-d688416a1510",
   "metadata": {},
   "outputs": [
    {
     "data": {
      "text/html": [
       "<div>\n",
       "<style scoped>\n",
       "    .dataframe tbody tr th:only-of-type {\n",
       "        vertical-align: middle;\n",
       "    }\n",
       "\n",
       "    .dataframe tbody tr th {\n",
       "        vertical-align: top;\n",
       "    }\n",
       "\n",
       "    .dataframe thead th {\n",
       "        text-align: right;\n",
       "    }\n",
       "</style>\n",
       "<table border=\"1\" class=\"dataframe\">\n",
       "  <thead>\n",
       "    <tr style=\"text-align: right;\">\n",
       "      <th>Ticker</th>\n",
       "      <th>MSFT</th>\n",
       "    </tr>\n",
       "    <tr>\n",
       "      <th>Date</th>\n",
       "      <th></th>\n",
       "    </tr>\n",
       "  </thead>\n",
       "  <tbody>\n",
       "    <tr>\n",
       "      <th>2024-08-30</th>\n",
       "      <td>NaN</td>\n",
       "    </tr>\n",
       "    <tr>\n",
       "      <th>2024-09-03</th>\n",
       "      <td>-0.018632</td>\n",
       "    </tr>\n",
       "    <tr>\n",
       "      <th>2024-09-04</th>\n",
       "      <td>-0.001320</td>\n",
       "    </tr>\n",
       "    <tr>\n",
       "      <th>2024-09-05</th>\n",
       "      <td>-0.001248</td>\n",
       "    </tr>\n",
       "    <tr>\n",
       "      <th>2024-09-06</th>\n",
       "      <td>-0.016517</td>\n",
       "    </tr>\n",
       "    <tr>\n",
       "      <th>...</th>\n",
       "      <td>...</td>\n",
       "    </tr>\n",
       "    <tr>\n",
       "      <th>2025-08-25</th>\n",
       "      <td>-0.005873</td>\n",
       "    </tr>\n",
       "    <tr>\n",
       "      <th>2025-08-26</th>\n",
       "      <td>-0.004412</td>\n",
       "    </tr>\n",
       "    <tr>\n",
       "      <th>2025-08-27</th>\n",
       "      <td>0.009318</td>\n",
       "    </tr>\n",
       "    <tr>\n",
       "      <th>2025-08-28</th>\n",
       "      <td>0.005707</td>\n",
       "    </tr>\n",
       "    <tr>\n",
       "      <th>2025-08-29</th>\n",
       "      <td>-0.005805</td>\n",
       "    </tr>\n",
       "  </tbody>\n",
       "</table>\n",
       "<p>250 rows × 1 columns</p>\n",
       "</div>"
      ],
      "text/plain": [
       "Ticker          MSFT\n",
       "Date                \n",
       "2024-08-30       NaN\n",
       "2024-09-03 -0.018632\n",
       "2024-09-04 -0.001320\n",
       "2024-09-05 -0.001248\n",
       "2024-09-06 -0.016517\n",
       "...              ...\n",
       "2025-08-25 -0.005873\n",
       "2025-08-26 -0.004412\n",
       "2025-08-27  0.009318\n",
       "2025-08-28  0.005707\n",
       "2025-08-29 -0.005805\n",
       "\n",
       "[250 rows x 1 columns]"
      ]
     },
     "execution_count": 13,
     "metadata": {},
     "output_type": "execute_result"
    }
   ],
   "source": [
    "log_returns # check timeseries download"
   ]
  },
  {
   "cell_type": "code",
   "execution_count": 15,
   "id": "1a1a50cd-87ae-4be0-9a5c-ba03c2b62307",
   "metadata": {},
   "outputs": [
    {
     "data": {
      "image/png": "[encoded data removed]",
      "text/plain": [
       "<Figure size 1000x600 with 1 Axes>"
      ]
     },
     "metadata": {},
     "output_type": "display_data"
    }
   ],
   "source": [
    "log_returns.plot(figsize=(10, 6));\n",
    "plt.show()"
   ]
  },
  {
   "cell_type": "code",
   "execution_count": 17,
   "id": "703de4eb-ec82-422e-a972-d06a5b915e69",
   "metadata": {},
   "outputs": [
    {
     "data": {
      "text/plain": [
       "Ticker\n",
       "MSFT    0.246366\n",
       "dtype: float64"
      ]
     },
     "execution_count": 17,
     "metadata": {},
     "output_type": "execute_result"
    }
   ],
   "source": [
    "stdev = log_returns.std() * 250 ** 0.5\n",
    "stdev"
   ]
  },
  {
   "cell_type": "code",
   "execution_count": 19,
   "id": "33c0c0e0-d949-4966-8c94-3a47f2e5da08",
   "metadata": {},
   "outputs": [
    {
     "data": {
      "text/html": [
       "<div>\n",
       "<style scoped>\n",
       "    .dataframe tbody tr th:only-of-type {\n",
       "        vertical-align: middle;\n",
       "    }\n",
       "\n",
       "    .dataframe tbody tr th {\n",
       "        vertical-align: top;\n",
       "    }\n",
       "\n",
       "    .dataframe thead th {\n",
       "        text-align: right;\n",
       "    }\n",
       "</style>\n",
       "<table border=\"1\" class=\"dataframe\">\n",
       "  <thead>\n",
       "    <tr style=\"text-align: right;\">\n",
       "      <th></th>\n",
       "      <th>Close</th>\n",
       "      <th>Risk Free Rate</th>\n",
       "    </tr>\n",
       "    <tr>\n",
       "      <th>Date</th>\n",
       "      <th></th>\n",
       "      <th></th>\n",
       "    </tr>\n",
       "  </thead>\n",
       "  <tbody>\n",
       "    <tr>\n",
       "      <th>2025-08-29 00:00:00-04:00</th>\n",
       "      <td>95.904999</td>\n",
       "      <td>4.095001</td>\n",
       "    </tr>\n",
       "  </tbody>\n",
       "</table>\n",
       "</div>"
      ],
      "text/plain": [
       "                               Close  Risk Free Rate\n",
       "Date                                                \n",
       "2025-08-29 00:00:00-04:00  95.904999        4.095001"
      ]
     },
     "execution_count": 19,
     "metadata": {},
     "output_type": "execute_result"
    }
   ],
   "source": [
    "ticker = yf.Ticker(\"SR3=F\") # use 3 month SOFR Futures via CME Group as proxy for the risk free rate\n",
    "rfr_data = ticker.history(period=\"1y\")[[\"Close\"]]\n",
    "rfr_data[\"Risk Free Rate\"] = 100 - rfr_data[\"Close\"]\n",
    "rfr_data"
   ]
  },
  {
   "cell_type": "code",
   "execution_count": 21,
   "id": "a25c8f2e-1656-4960-845b-9d45fe7ee94e",
   "metadata": {},
   "outputs": [
    {
     "data": {
      "text/plain": [
       "0.04095001220703125"
      ]
     },
     "execution_count": 21,
     "metadata": {},
     "output_type": "execute_result"
    }
   ],
   "source": [
    "risk_free_rate_value = float(rfr_data[\"Risk Free Rate\"].iloc[-1])/100\n",
    "risk_free_rate_value"
   ]
  },
  {
   "cell_type": "code",
   "execution_count": 23,
   "id": "e2488d74-8fbc-4759-88df-3a9c51e1142a",
   "metadata": {},
   "outputs": [],
   "source": [
    "r = risk_free_rate_value\n",
    "K = strike[0]\n",
    "T = 1         # e.g. 1 represents 1 year"
   ]
  },
  {
   "cell_type": "code",
   "execution_count": 25,
   "id": "5b5257c0-f477-4e0a-8350-c5329d473f26",
   "metadata": {},
   "outputs": [
    {
     "data": {
      "text/plain": [
       "Ticker\n",
       "MSFT    506.690002\n",
       "Name: 2025-08-29 00:00:00, dtype: float64"
      ]
     },
     "execution_count": 25,
     "metadata": {},
     "output_type": "execute_result"
    }
   ],
   "source": [
    "S = data.iloc[-1]\n",
    "S"
   ]
  },
  {
   "cell_type": "code",
   "execution_count": 27,
   "id": "54911886-b004-41bf-bd0d-f695fc5fba65",
   "metadata": {},
   "outputs": [
    {
     "data": {
      "text/plain": [
       "Ticker\n",
       "MSFT   -0.097464\n",
       "dtype: float64"
      ]
     },
     "execution_count": 27,
     "metadata": {},
     "output_type": "execute_result"
    }
   ],
   "source": [
    "d1(S, K, r, stdev, T)"
   ]
  },
  {
   "cell_type": "code",
   "execution_count": 29,
   "id": "cc7c3bab-9ec3-4c8c-a3f6-1106cb05d3fe",
   "metadata": {},
   "outputs": [
    {
     "data": {
      "text/plain": [
       "Ticker\n",
       "MSFT   -0.343831\n",
       "dtype: float64"
      ]
     },
     "execution_count": 29,
     "metadata": {},
     "output_type": "execute_result"
    }
   ],
   "source": [
    "d2(S, K, r, stdev, T)"
   ]
  },
  {
   "cell_type": "code",
   "execution_count": 31,
   "id": "1bb56a81-8419-4067-9dee-0c6c012775d1",
   "metadata": {},
   "outputs": [
    {
     "name": "stdout",
     "output_type": "stream",
     "text": [
      "The call option price is 38.14\n",
      "The spot price is 506.69\n",
      "The risk free rate is 4.10%\n",
      "The strike is 557.36\n",
      "The expiry date is 1.00 year.\n"
     ]
    }
   ],
   "source": [
    "option_price = BSM(S, K, r, stdev, T)\n",
    "c = option_price.iloc[0]\n",
    "print(f\"The call option price is {c:0.2f}\")\n",
    "print(f\"The spot price is {S.iloc[-1]:0.2f}\")\n",
    "print(f\"The risk free rate is {r*100:0.2f}%\")\n",
    "print(f\"The strike is {K:0.2f}\")\n",
    "print(f\"The expiry date is {T:0.2f} year.\")"
   ]
  },
  {
   "cell_type": "code",
   "execution_count": null,
   "id": "ab4ae9af-a8fd-4a17-a766-b39ec3e43d2f",
   "metadata": {},
   "outputs": [],
   "source": []
  }
 ],
 "metadata": {
  "kernelspec": {
   "display_name": "Python [conda env:base] *",
   "language": "python",
   "name": "conda-base-py"
  },
  "language_info": {
   "codemirror_mode": {
    "name": "ipython",
    "version": 3
   },
   "file_extension": ".py",
   "mimetype": "text/x-python",
   "name": "python",
   "nbconvert_exporter": "python",
   "pygments_lexer": "ipython3",
   "version": "3.12.7"
  }
 },
 "nbformat": 4,
 "nbformat_minor": 5
}
